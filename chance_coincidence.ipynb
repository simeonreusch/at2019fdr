{
 "cells": [
  {
   "cell_type": "code",
   "execution_count": 1,
   "metadata": {},
   "outputs": [],
   "source": [
    "from IPython.display import display, Markdown\n",
    "import numpy as np"
   ]
  },
  {
   "cell_type": "code",
   "execution_count": 2,
   "metadata": {},
   "outputs": [
    {
     "name": "stdout",
     "output_type": "stream",
     "text": [
      "Summed signalness is 7.48 astrophysical neutrinos\n"
     ]
    }
   ],
   "source": [
    "n_astro = 0.36 + 0.55 + 0.67 + 0.51 + 0.59 + 0.65 + 0.77 + 0.38 + 0.32 + 0.25 + 0.32 + 0.32 + 0.44 + 0.47 + 0.88\n",
    "print(f\"Summed signalness is {n_astro:.2f} astrophysical neutrinos\")"
   ]
  },
  {
   "cell_type": "code",
   "execution_count": 3,
   "metadata": {},
   "outputs": [
    {
     "name": "stdout",
     "output_type": "stream",
     "text": [
      "Summed ZTF area is 119.30 sq.deg.\n"
     ]
    }
   ],
   "source": [
    "area_ztf = 1.37 + 21.57 + 4.52 + 4.09 + 20.56 + 6.22 + 20.06 + 2.66 + 9.3 + 22. + 1.2 + 3.13 + 1.22 + 0.9 + 0.5\n",
    "print(f\"Summed ZTF area is {area_ztf:.2f} sq.deg.\")"
   ]
  },
  {
   "cell_type": "code",
   "execution_count": 12,
   "metadata": {},
   "outputs": [
    {
     "name": "stdout",
     "output_type": "stream",
     "text": [
      "Accounting for NLSy1 flares increases the rate by 11.76%\n",
      "ZTF can access 22000.00 sq. deg of sky over a year.\n",
      "ZTF found 19.0 TDEs in 1.5 years in 33000 sq. deg, giving 0.00058 new TDEs per sq. deg per year, or giving 1.6e-06 new TDEs per sq. deg per year\n",
      "We assume that each TDE is visible for an average of 0.5 years, giving a detection rate of 0.00029 observed TDEs per sq deg at any one time.\n",
      "Given a TDE rate of 0.000288 per sq. deg in ZTF and a radio-loud fraction 0.29, we have a final rate of 8.2e-05 per sq. deg.\n",
      "We thus expect 0.00981 across all observed neutrinos\n"
     ]
    }
   ],
   "source": [
    "# ZTF found 17 TDEs (https://arxiv.org/abs/2001.01409) and 1 NLSy1 flares that are likely TDEs (https://arxiv.org/abs/2010.08554)\n",
    "ztf_n_tde_clear = 17.\n",
    "ztf_n_tde_nlsy1 = 2.\n",
    "ztf_n_tde = ztf_n_tde_clear + ztf_n_tde_nlsy1\n",
    "\n",
    "print(f\"Accounting for NLSy1 flares increases the rate by {100. * ztf_n_tde_nlsy1/ztf_n_tde_clear:.2f}%\")\n",
    "\n",
    "night_sky = 44000.\n",
    "\n",
    "# ZTF can observe between -30 deg and +90 deg\n",
    "\n",
    "frac_ztf = (np.sin(np.radians(90)) - np.sin(np.radians(-30))) / 2.\n",
    "frac_ztf = 0.5\n",
    "\n",
    "# Take half?\n",
    "\n",
    "ztf_sky = night_sky * frac_ztf\n",
    "\n",
    "print(f\"ZTF can access {ztf_sky:.2f} sq. deg of sky over a year.\")\n",
    "\n",
    "ztf_tde_disc_rate = ztf_n_tde / 1.5 / ztf_sky\n",
    "\n",
    "print(f\"ZTF found {ztf_n_tde} TDEs in 1.5 years in 33000 sq. deg, \"\n",
    "      f\"giving {ztf_tde_disc_rate:.2g} new TDEs per sq. deg per year, or \"\n",
    "      f\"giving {(ztf_tde_disc_rate/365.25):.2g} new TDEs per sq. deg per year\")\n",
    "\n",
    "n_year = 0.5\n",
    "\n",
    "ztf_tde_rate = ztf_tde_disc_rate * n_year\n",
    "\n",
    "print(f\"We assume that each TDE is visible for an average of {n_year} years, giving a detection rate of {ztf_tde_rate:.2g} observed TDEs per sq deg at any one time.\")\n",
    "\n",
    "frac_rl = 2./7.\n",
    "\n",
    "ztf_rl_tde_rate = ztf_tde_rate * frac_rl\n",
    "\n",
    "ztf_expectation = ztf_rl_tde_rate * area_ztf\n",
    "print(f\"Given a TDE rate of {ztf_tde_rate:.3g} per sq. deg in ZTF and a radio-loud fraction {frac_rl:.2f}, we have a final rate of {ztf_rl_tde_rate:.2g} per sq. deg.\")\n",
    "print(f\"We thus expect {ztf_expectation:.3g} across all observed neutrinos\")"
   ]
  },
  {
   "cell_type": "code",
   "execution_count": 5,
   "metadata": {},
   "outputs": [],
   "source": [
    "from scipy.stats import poisson, norm"
   ]
  },
  {
   "cell_type": "code",
   "execution_count": 6,
   "metadata": {},
   "outputs": [
    {
     "name": "stdout",
     "output_type": "stream",
     "text": [
      "p-value: 0.976%\n"
     ]
    },
    {
     "data": {
      "text/markdown": [
       "Corresponds to: 2.34 $\\sigma$"
      ],
      "text/plain": [
       "<IPython.core.display.Markdown object>"
      ]
     },
     "metadata": {},
     "output_type": "display_data"
    }
   ],
   "source": [
    "pdf = poisson(ztf_expectation)\n",
    "\n",
    "p_value = pdf.sf(0)\n",
    "\n",
    "# p_value = 0.002\n",
    "\n",
    "sigma = norm.ppf(1. - p_value)\n",
    "\n",
    "print(f\"p-value: {p_value*100:.3g}%\")\n",
    "display(Markdown((rf\"Corresponds to: {sigma:.2f} $\\sigma$\")))"
   ]
  },
  {
   "cell_type": "code",
   "execution_count": 7,
   "metadata": {},
   "outputs": [
    {
     "name": "stdout",
     "output_type": "stream",
     "text": [
      "p-value: 0.00478 %\n"
     ]
    },
    {
     "data": {
      "text/markdown": [
       "Corresponds to: 3.90 $\\sigma$"
      ],
      "text/plain": [
       "<IPython.core.display.Markdown object>"
      ]
     },
     "metadata": {},
     "output_type": "display_data"
    }
   ],
   "source": [
    "# p_value = 0.002\n",
    "p_value = pdf.sf(1)\n",
    "\n",
    "sigma = norm.ppf(1. - p_value)\n",
    "\n",
    "print(f\"p-value: {p_value*100:.3g} %\")\n",
    "display(Markdown((rf\"Corresponds to: {sigma:.2f} $\\sigma$\")))"
   ]
  },
  {
   "cell_type": "code",
   "execution_count": 8,
   "metadata": {},
   "outputs": [
    {
     "name": "stdout",
     "output_type": "stream",
     "text": [
      "This implies at least 9.63% of astrophysical neutrino alerts come from TDEs\n"
     ]
    }
   ],
   "source": [
    "f_complete = 0.5\n",
    "astro_fraction = 0.36/n_astro/f_complete\n",
    "print(f\"This implies at least {astro_fraction*100:.2f}% of astrophysical neutrino alerts come from TDEs\")"
   ]
  },
  {
   "cell_type": "code",
   "execution_count": null,
   "metadata": {},
   "outputs": [],
   "source": []
  }
 ],
 "metadata": {
  "kernelspec": {
   "display_name": "tywin_env",
   "language": "python",
   "name": "tywin_env"
  },
  "language_info": {
   "codemirror_mode": {
    "name": "ipython",
    "version": 3
   },
   "file_extension": ".py",
   "mimetype": "text/x-python",
   "name": "python",
   "nbconvert_exporter": "python",
   "pygments_lexer": "ipython3",
   "version": "3.8.5"
  }
 },
 "nbformat": 4,
 "nbformat_minor": 4
}
